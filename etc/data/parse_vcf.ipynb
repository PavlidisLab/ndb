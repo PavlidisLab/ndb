{
 "cells": [
  {
   "cell_type": "markdown",
   "metadata": {},
   "source": [
    "## Import and data load"
   ]
  },
  {
   "cell_type": "code",
   "execution_count": 89,
   "metadata": {},
   "outputs": [],
   "source": [
    "import pandas as pd\n",
    "import numpy as np\n",
    "from copy import copy "
   ]
  },
  {
   "cell_type": "code",
   "execution_count": 90,
   "metadata": {},
   "outputs": [],
   "source": [
    "def info_header( x:str,y:str,z:str ) -> str :\n",
    "    ''' Generate the info header (only supporting ID, Type and Description at this stage.)'''\n",
    "    return '##INFO=<ID=\"{ID}\",Type=\"{Type}\",Description=\"{Description}\">'.format(ID=x.strip(),\n",
    "                                                                                 Type=y.strip(),\n",
    "                                                                                 Description=z.strip()\n",
    "                                                                         )\n",
    "def generate_info(header : list, row : list) -> str:\n",
    "    ''' Map the info fields into a semicolon separated key=value string. '''\n",
    "    return( \";\".join([\"{k}={v}\".format(k=k,v=v) for k,v in zip(header,row)]) )\n",
    "\n",
    "def get_vcfdate() -> str:\n",
    "    now = datetime.now()\n",
    "    VCF_DATE = str(now.date()).replace(\"-\",\"\")\n",
    "    return VCF_DATE"
   ]
  },
  {
   "cell_type": "code",
   "execution_count": 91,
   "metadata": {},
   "outputs": [],
   "source": [
    "VARICARTA_VERSION=\"1.1\"\n",
    "\n",
    "OUTPUT_FILE=\"../out/export_{VARICARTA_VERSION}.vcf\".format(VARICARTA_VERSION=VARICARTA_VERSION)\n",
    "\n",
    "VCF_HEADER='''##fileformat=VCFv4.3\n",
    "##fileDate={VCF_DATE}\n",
    "##source=VariCarta{VARICARTA_VERSION}\n",
    "'''.format(VCF_DATE=get_vcfdate(),\n",
    "           VARICARTA_VERSION=VARICARTA_VERSION\n",
    "          )"
   ]
  },
  {
   "cell_type": "markdown",
   "metadata": {},
   "source": [
    "### Input data\n",
    "Put the latest or preferred varicarta export in this notebook's directory."
   ]
  },
  {
   "cell_type": "code",
   "execution_count": 92,
   "metadata": {},
   "outputs": [
    {
     "name": "stderr",
     "output_type": "stream",
     "text": [
      "/home/y/anaconda3/envs/varicarta/lib/python3.8/site-packages/IPython/core/interactiveshell.py:3062: DtypeWarning: Columns (22,26) have mixed types.Specify dtype option on import or set low_memory=False.\n",
      "  has_raised = await self.run_ast_nodes(code_ast.body, cell_name,\n"
     ]
    }
   ],
   "source": [
    "variant_data = pd.read_csv(\"../res/export_latest.tsv\", sep=\"\\t\")\n",
    "info_fields = pd.read_csv(\"../res/vcf_info.tsv\", sep=\"\\t\")"
   ]
  },
  {
   "cell_type": "code",
   "execution_count": 93,
   "metadata": {},
   "outputs": [],
   "source": [
    "''' Generate INFO headers'''\n",
    "INFO_HEADER : list = info_fields.apply(lambda x : info_header(x[0], x[2], x[3]), axis=1)"
   ]
  },
  {
   "cell_type": "code",
   "execution_count": 94,
   "metadata": {},
   "outputs": [],
   "source": [
    "''' Map required columns '''\n",
    "COLS_USED = {\n",
    "    'chromosome' : '#CHROM',\n",
    "    'start_hg19' : 'POS',\n",
    "    'event_id' : 'ID',\n",
    "    'ref' : 'REF',\n",
    "    'alt' : 'ALT'    \n",
    "}\n",
    "\n",
    "''' Get rest of data for info columns'''\n",
    "INFO_COLS = sorted(list(set(variant_data.columns) - set(COLS_USED.keys())))\n",
    "\n",
    "''' Subset dataframe for required cols and rename '''\n",
    "df_vcf = copy(variant_data[COLS_USED.keys()])\n",
    "df_vcf = df_vcf.rename(columns = COLS_USED)\n",
    "\n",
    "''' Insert empty fields. Could be used for validation or sequencing type'''\n",
    "df_vcf[\"QUAL\"] = \".\"\n",
    "df_vcf[\"FILTER\"] = \".\"\n",
    "\n",
    "''' Insert INFO fields'''\n",
    "df_vcf[\"INFO\"] = variant_data[INFO_COLS].apply(lambda x : generate_info(header=INFO_COLS, row=x), axis=1)"
   ]
  },
  {
   "cell_type": "code",
   "execution_count": 95,
   "metadata": {},
   "outputs": [],
   "source": [
    "''' Clear file '''\n",
    "f = open(OUTPUT_FILE, 'w')\n",
    "f.write(VCF_HEADER) # Write header\n",
    "f.write(\"\\n\".join(INFO_HEADER) + \"\\n\") # Write header\n",
    "f.write(\"\\t\".join(df_vcf.columns.tolist()) + \"\\n\") # Write header\n",
    "df_vcf.to_csv(f, sep=\"\\t\", header=False, index=False)\n",
    "f.close()"
   ]
  }
 ],
 "metadata": {
  "kernelspec": {
   "display_name": "Python 3",
   "language": "python",
   "name": "python3"
  },
  "language_info": {
   "codemirror_mode": {
    "name": "ipython",
    "version": 3
   },
   "file_extension": ".py",
   "mimetype": "text/x-python",
   "name": "python",
   "nbconvert_exporter": "python",
   "pygments_lexer": "ipython3",
   "version": "3.8.2"
  }
 },
 "nbformat": 4,
 "nbformat_minor": 4
}
